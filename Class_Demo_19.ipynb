{
 "cells": [
  {
   "cell_type": "code",
   "execution_count": null,
   "metadata": {
    "id": "qDu0XrVuQByI"
   },
   "outputs": [],
   "source": [
    "import pandas as pd\n",
    "from datetime import datetime\n",
    "from datetime import timedelta\n",
    "import numpy as np\n",
    "import matplotlib.pyplot as plt"
   ]
  },
  {
   "cell_type": "code",
   "execution_count": null,
   "metadata": {
    "colab": {
     "base_uri": "https://localhost:8080/",
     "height": 143
    },
    "id": "ArFQ5iaUT8Z4",
    "outputId": "be4280cb-48d8-4ce3-a76b-9a4f29179b22"
   },
   "outputs": [],
   "source": [
    "# Create a DataFrame with datetime objects\n",
    "data = { 'Event': ['Event1', 'Event2', 'Event3'],\n",
    "        'Date': [datetime(2023, 1, 1, 10, 0),\n",
    "                 datetime(2023, 1, 2, 12, 30),\n",
    "                 datetime(2023, 1, 3, 14, 45)]\n",
    "         }\n",
    "df = pd.DataFrame(data)\n",
    "df"
   ]
  },
  {
   "cell_type": "code",
   "execution_count": null,
   "metadata": {
    "colab": {
     "base_uri": "https://localhost:8080/"
    },
    "id": "5KdRwv2eHAXb",
    "outputId": "84abc034-8464-46fd-875d-76dd0ea7d2a6"
   },
   "outputs": [],
   "source": [
    "df.info()"
   ]
  },
  {
   "cell_type": "code",
   "execution_count": null,
   "metadata": {
    "colab": {
     "base_uri": "https://localhost:8080/",
     "height": 89
    },
    "id": "i2ivEbeWUWYh",
    "outputId": "6d8ab9f5-7e4c-4de5-8e47-af3a00856583"
   },
   "outputs": [],
   "source": [
    "# Filter events after January 1, 2023, 11:00 AM\n",
    "filtered_df = df[df['Date'] > datetime(2023, 1, 1, 11, 0)]\n",
    "filtered_df"
   ]
  },
  {
   "cell_type": "code",
   "execution_count": null,
   "metadata": {
    "colab": {
     "base_uri": "https://localhost:8080/",
     "height": 143
    },
    "id": "IDpzW3TBU56l",
    "outputId": "b2a512b0-17c8-4c65-cac2-13abef84ca8e"
   },
   "outputs": [],
   "source": [
    "# Add 5 days to each date in the DataFrame\n",
    "df['Date_Plus_5_Days'] = df['Date'] + timedelta(days=5)\n",
    "df"
   ]
  },
  {
   "cell_type": "code",
   "execution_count": null,
   "metadata": {
    "colab": {
     "base_uri": "https://localhost:8080/",
     "height": 143
    },
    "id": "RR02lOpDVbqg",
    "outputId": "212b1a1a-d38d-4d60-cc82-818a401efecb"
   },
   "outputs": [],
   "source": [
    " # Subtract 3 hours from each date in the DataFrame\n",
    "df['Date_Minus_3_Hours'] = df['Date'] - timedelta(hours=3)\n",
    "df"
   ]
  },
  {
   "cell_type": "code",
   "execution_count": null,
   "metadata": {
    "colab": {
     "base_uri": "https://localhost:8080/",
     "height": 143
    },
    "id": "wLjcwyDdV8xn",
    "outputId": "7942ca0d-65fc-4251-a6d1-a9b3aa25b331"
   },
   "outputs": [],
   "source": [
    "# Calculate duration between two dates\n",
    "df['Duration'] = df['Date'] - df['Date'].shift(1)\n",
    "df"
   ]
  },
  {
   "cell_type": "code",
   "execution_count": null,
   "metadata": {
    "colab": {
     "base_uri": "https://localhost:8080/",
     "height": 363
    },
    "id": "Z_LNlehOWQau",
    "outputId": "89e2a54e-7488-4ed4-8e43-7da948a08ec1"
   },
   "outputs": [],
   "source": [
    "# Generate a range of dates from today\n",
    "start_date = datetime(2023, 1, 1)\n",
    "date_range = [start_date + timedelta(days=x) for x in range(10)]\n",
    "date_df = pd.DataFrame(date_range, columns=['Date'])\n",
    "date_df"
   ]
  },
  {
   "cell_type": "code",
   "execution_count": null,
   "metadata": {
    "colab": {
     "base_uri": "https://localhost:8080/"
    },
    "id": "JUeBHQmBaByc",
    "outputId": "884c2f33-4bb0-47a7-e6dc-cb615dada5ac"
   },
   "outputs": [],
   "source": [
    "# Converting between string and datetime\n",
    "date_string = '2023-06-18 12:30:00'\n",
    "date_format = '%Y-%m-%d %H:%M:%S'\n",
    "# Parsing the date string into a datetime object\n",
    "dt_object = datetime.strptime(date_string, date_format)\n",
    "print(dt_object)"
   ]
  },
  {
   "cell_type": "code",
   "execution_count": null,
   "metadata": {
    "colab": {
     "base_uri": "https://localhost:8080/"
    },
    "id": "Ae-yMiCHaowu",
    "outputId": "eb56d50e-a55e-41f5-e20e-daf18b1ffe0c"
   },
   "outputs": [],
   "source": [
    "print(type(date_string))\n",
    "print(type(dt_object))\n"
   ]
  },
  {
   "cell_type": "code",
   "execution_count": null,
   "metadata": {
    "colab": {
     "base_uri": "https://localhost:8080/"
    },
    "id": "LibpAjIwa_9S",
    "outputId": "5122f630-841a-4775-ac82-46bc433a32fb"
   },
   "outputs": [],
   "source": [
    "# Formatting datetime objects in a Series\n",
    "# Create a Series of datetime objects\n",
    "dates = pd.Series([datetime(2023, 1, 1), datetime(2023, 2, 15), datetime(2023, 3, 31)])\n",
    "\n",
    "# Format the datetime objects as strings in the format 'YYYY-MM-DD'\n",
    "formatted_dates = dates.dt.strftime('%Y-%m-%d')\n",
    "print(formatted_dates)"
   ]
  },
  {
   "cell_type": "code",
   "execution_count": null,
   "metadata": {
    "colab": {
     "base_uri": "https://localhost:8080/"
    },
    "id": "UnpG6QZsNvic",
    "outputId": "c6a6d22f-7f86-43c9-944e-6f94fead31a8"
   },
   "outputs": [],
   "source": [
    "# Formatting datetime objects in a Series\n",
    "# Create a Series of datetime objects\n",
    "dates = pd.Series([datetime(2023, 1, 1), datetime(2023, 2, 15), datetime(2023, 3, 31)])\n",
    "\n",
    "# Format the datetime objects as strings in the format 'YYYY-MM-DD'\n",
    "formatted_dates = dates.dt.strftime('%d %b/%Y %A')\n",
    "print(formatted_dates)"
   ]
  },
  {
   "cell_type": "code",
   "execution_count": null,
   "metadata": {
    "colab": {
     "base_uri": "https://localhost:8080/",
     "height": 143
    },
    "id": "1XMCdEIgbYPS",
    "outputId": "cd4b7daa-f643-4e97-afab-bc50d504b67b"
   },
   "outputs": [],
   "source": [
    "# Formatting datetime objects in a DataFrame\n",
    "\n",
    "# Create a DataFrame with datetime objects\n",
    "data = { 'Start_Date': [datetime(2023, 1, 1), datetime(2023, 2, 1), datetime(2023, 3, 1)],\n",
    "        'End_Date': [datetime(2023, 1, 15), datetime(2023, 2, 15), datetime(2023, 3, 15)]\n",
    "         }\n",
    "df = pd.DataFrame(data)\n",
    "df"
   ]
  },
  {
   "cell_type": "code",
   "execution_count": null,
   "metadata": {
    "colab": {
     "base_uri": "https://localhost:8080/",
     "height": 143
    },
    "id": "QMeClsCEboFx",
    "outputId": "1d937bc8-9615-45a3-a78e-2ef4986f8e22"
   },
   "outputs": [],
   "source": [
    "\n",
    "# Format datetime objects as string format 'DD/MM/YYYY'\n",
    "formatted_df = df.map(lambda x: x.strftime('%d/%m/%Y'))\n",
    "\n",
    "formatted_df"
   ]
  },
  {
   "cell_type": "code",
   "execution_count": null,
   "metadata": {
    "colab": {
     "base_uri": "https://localhost:8080/",
     "height": 174
    },
    "id": "PMziAD0Bb6Q4",
    "outputId": "5e378a09-c4ad-469d-ee00-1fab854bb631"
   },
   "outputs": [],
   "source": [
    "# Sample data\n",
    "data = { 'Date': ['2022-01-01', '2022-01-02', '2022-01-03', '2022-01-04'],\n",
    "        'Value': [10, 15, 14, 13] }\n",
    "df = pd.DataFrame(data)\n",
    "df"
   ]
  },
  {
   "cell_type": "code",
   "execution_count": null,
   "metadata": {
    "colab": {
     "base_uri": "https://localhost:8080/",
     "height": 146
    },
    "id": "gnYav7CvQQ1n",
    "outputId": "74dfdc75-4d53-4fc3-d655-470a9d95890b"
   },
   "outputs": [],
   "source": [
    "df.dtypes"
   ]
  },
  {
   "cell_type": "code",
   "execution_count": null,
   "metadata": {
    "colab": {
     "base_uri": "https://localhost:8080/",
     "height": 174
    },
    "id": "-KFNPD7RQMI9",
    "outputId": "8f066ccd-bc05-4831-8066-7d6f3532eddc"
   },
   "outputs": [],
   "source": [
    "df['Date'] = pd.to_datetime(df['Date'])  # Convert to datetime\n",
    "df"
   ]
  },
  {
   "cell_type": "code",
   "execution_count": null,
   "metadata": {
    "colab": {
     "base_uri": "https://localhost:8080/",
     "height": 146
    },
    "id": "xQcQ7s0jQcNH",
    "outputId": "42bc51e0-c5aa-4ec7-f744-b92d5aaf091c"
   },
   "outputs": [],
   "source": [
    "df.dtypes"
   ]
  },
  {
   "cell_type": "markdown",
   "metadata": {
    "id": "hrxY-s6k-gE5"
   },
   "source": [
    "Pandas Timestamp"
   ]
  },
  {
   "cell_type": "code",
   "execution_count": null,
   "metadata": {
    "colab": {
     "base_uri": "https://localhost:8080/"
    },
    "id": "WZiYrq3AcXb5",
    "outputId": "7aa94c1d-61fe-45e9-94e7-efd20699b947"
   },
   "outputs": [],
   "source": [
    "# Creating a Timestamp from a string\n",
    "timestamp1 = pd.Timestamp('2023-06-18')\n",
    "print(timestamp1)\n",
    "\n"
   ]
  },
  {
   "cell_type": "code",
   "execution_count": null,
   "metadata": {
    "colab": {
     "base_uri": "https://localhost:8080/"
    },
    "id": "uV2pPXxj-ps0",
    "outputId": "7b542285-f319-4a68-937f-a267e8adab26"
   },
   "outputs": [],
   "source": [
    "# Creating a Timestamp from a datetime object\n",
    "timestamp2 = pd.Timestamp(2023, 6, 18, 12, 30)\n",
    "print(timestamp2)"
   ]
  },
  {
   "cell_type": "code",
   "execution_count": null,
   "metadata": {
    "colab": {
     "base_uri": "https://localhost:8080/"
    },
    "id": "iuJg5fQS-zob",
    "outputId": "1284e908-baaa-4ac3-96a8-d3e35e65125b"
   },
   "outputs": [],
   "source": [
    "# Creating a Timestamp from a string\n",
    "timestamp1 = pd.Timestamp('2023-06-18')\n",
    "print(timestamp1)"
   ]
  },
  {
   "cell_type": "code",
   "execution_count": null,
   "metadata": {
    "colab": {
     "base_uri": "https://localhost:8080/"
    },
    "id": "B1Mep48Y-487",
    "outputId": "75fb5771-fc0b-4fd1-c211-26c119428b6c"
   },
   "outputs": [],
   "source": [
    "# Creating a Timestamp from a datetime object\n",
    "timestamp2 = pd.Timestamp(2023, 6, 18, 12, 30)\n",
    "\n",
    "# Adding a timedelta to a Timestamp\n",
    "new_timestamp = timestamp2 + pd.Timedelta(days=5)\n",
    "print(new_timestamp)"
   ]
  },
  {
   "cell_type": "code",
   "execution_count": null,
   "metadata": {
    "colab": {
     "base_uri": "https://localhost:8080/"
    },
    "id": "amtkMFZcRiFk",
    "outputId": "625da7cb-b2a4-41b6-d647-4d385bc8eb45"
   },
   "outputs": [],
   "source": [
    "timestamp2"
   ]
  },
  {
   "cell_type": "code",
   "execution_count": null,
   "metadata": {
    "colab": {
     "base_uri": "https://localhost:8080/"
    },
    "id": "EfZAH3BO_D0w",
    "outputId": "5d82f9ad-539d-48c1-8be4-ecca089eee40"
   },
   "outputs": [],
   "source": [
    "# Time zone conversion\n",
    "timestamp_utc = timestamp2.tz_localize('UTC')\n",
    "timestamp_est = timestamp_utc.tz_convert('US/Eastern')\n",
    "print(timestamp_utc)\n",
    "print(timestamp_est)"
   ]
  },
  {
   "cell_type": "code",
   "execution_count": null,
   "metadata": {
    "colab": {
     "base_uri": "https://localhost:8080/"
    },
    "id": "Ai-Scrzi_ddl",
    "outputId": "a2dc8844-583d-446c-dbdf-070ed40bdd0c"
   },
   "outputs": [],
   "source": [
    "# Creating a Period for a single month\n",
    "period_month = pd.Period('2023-06', freq='M')\n",
    "print(period_month)"
   ]
  },
  {
   "cell_type": "code",
   "execution_count": null,
   "metadata": {
    "colab": {
     "base_uri": "https://localhost:8080/"
    },
    "id": "jwl9Eyz3_qBJ",
    "outputId": "b6950341-994e-4218-f065-763ba19378c2"
   },
   "outputs": [],
   "source": [
    "# Creating a Period for a single day\n",
    "period_day = pd.Period('2023-06-18', freq='D')\n",
    "print(period_day)"
   ]
  },
  {
   "cell_type": "code",
   "execution_count": null,
   "metadata": {
    "colab": {
     "base_uri": "https://localhost:8080/"
    },
    "id": "Oqr-HCCI_vCI",
    "outputId": "c4930550-0260-4211-b4ad-39f8114c704f"
   },
   "outputs": [],
   "source": [
    "# Adding a period\n",
    "new_period = period_month + 1\n",
    "print(new_period)"
   ]
  },
  {
   "cell_type": "code",
   "execution_count": null,
   "metadata": {
    "colab": {
     "base_uri": "https://localhost:8080/"
    },
    "id": "ioVIjTfb_1Af",
    "outputId": "364f0f0a-91bf-4172-dec7-c55be91aaa82"
   },
   "outputs": [],
   "source": [
    "# Subtracting a period\n",
    "previous_period = period_day - 1\n",
    "print(previous_period)"
   ]
  },
  {
   "cell_type": "code",
   "execution_count": null,
   "metadata": {
    "colab": {
     "base_uri": "https://localhost:8080/"
    },
    "id": "c_HPxnzj_51D",
    "outputId": "facc242e-9d24-4a62-c7bd-1b7b5148fc85"
   },
   "outputs": [],
   "source": [
    "# Converting frequency\n",
    "period_year = period_month.asfreq('M')\n",
    "print(period_year)"
   ]
  },
  {
   "cell_type": "markdown",
   "metadata": {},
   "source": [
    "PANDAS DATE_RANGE"
   ]
  },
  {
   "cell_type": "code",
   "execution_count": null,
   "metadata": {
    "colab": {
     "base_uri": "https://localhost:8080/"
    },
    "id": "NFiQVFqv_9vT",
    "outputId": "ab24cb7a-f68e-43f3-e786-c048d74fd2c1"
   },
   "outputs": [],
   "source": [
    "# Generate a range of dates from January 1, 2023 to January 10, 2023\n",
    "date_range = pd.date_range(start='2023-01-01', end='2023-01-10')\n",
    "date_range"
   ]
  },
  {
   "cell_type": "code",
   "execution_count": null,
   "metadata": {
    "colab": {
     "base_uri": "https://localhost:8080/"
    },
    "id": "7kyrvQbGAWdv",
    "outputId": "285565be-6eed-4681-c39d-433d4a7c0743"
   },
   "outputs": [],
   "source": [
    "# Generate a range of monthly dates from January to June 2023\n",
    "monthly_date_range = pd.date_range(start='2023-01-01', end='2023-06-01', freq='ME')\n",
    "print(monthly_date_range)"
   ]
  },
  {
   "cell_type": "code",
   "execution_count": null,
   "metadata": {
    "colab": {
     "base_uri": "https://localhost:8080/"
    },
    "id": "77N73UnpAx-9",
    "outputId": "3be042be-0677-4f71-bc50-a596e614691a"
   },
   "outputs": [],
   "source": [
    "# Generate a range of 10 half hourly datetimes from January 2020\n",
    "halfhourly_date_range = pd.date_range('2000-01-01', periods=10, freq='30min')\n",
    "print(halfhourly_date_range)"
   ]
  },
  {
   "cell_type": "code",
   "execution_count": null,
   "metadata": {
    "colab": {
     "base_uri": "https://localhost:8080/"
    },
    "id": "f6UdD_T2A8Uy",
    "outputId": "eddaa137-5be4-4362-f2f8-a03732d90141"
   },
   "outputs": [],
   "source": [
    "# Generate a range of dates\n",
    "date_range = pd.date_range(start='2023-01-01', periods=5, freq='D')\n",
    "print(date_range)"
   ]
  },
  {
   "cell_type": "code",
   "execution_count": null,
   "metadata": {
    "colab": {
     "base_uri": "https://localhost:8080/",
     "height": 206
    },
    "id": "jLQskyi0BFYb",
    "outputId": "b9faedcd-499a-4bfa-c05a-6c2856f6513e"
   },
   "outputs": [],
   "source": [
    "# Create a DataFrame\n",
    "df = pd.DataFrame(date_range, columns=['Date'])\n",
    "df"
   ]
  },
  {
   "cell_type": "code",
   "execution_count": null,
   "metadata": {
    "colab": {
     "base_uri": "https://localhost:8080/",
     "height": 206
    },
    "id": "KGjf53u1BKXb",
    "outputId": "52adbe43-c24d-4872-e44d-5a1c45f2265d"
   },
   "outputs": [],
   "source": [
    "# Add a column with formatted date strings\n",
    "df['Formatted_Date'] = df['Date'].dt.strftime('%d-%m-%Y')\n",
    "df"
   ]
  },
  {
   "cell_type": "code",
   "execution_count": null,
   "metadata": {
    "colab": {
     "base_uri": "https://localhost:8080/",
     "height": 146
    },
    "id": "Ml7BDoYNUgpw",
    "outputId": "d6233bd4-ba91-4afb-f9df-6b81f492faa2"
   },
   "outputs": [],
   "source": [
    "df.dtypes"
   ]
  },
  {
   "cell_type": "code",
   "execution_count": null,
   "metadata": {
    "id": "YaP4HA8QBRQg"
   },
   "outputs": [],
   "source": [
    "# Indexing date column\n",
    "# Sample data\n",
    "data = { 'Date': ['2022-01-01', '2022-01-02', '2022-01-03', '2022-01-04'],\n",
    "        'Value': [10, 15, 14, 13]\n",
    "         }\n",
    "df = pd.DataFrame(data)\n",
    "df['Date'] = pd.to_datetime(df['Date'])  # Convert to datetime"
   ]
  },
  {
   "cell_type": "code",
   "execution_count": null,
   "metadata": {
    "colab": {
     "base_uri": "https://localhost:8080/",
     "height": 174
    },
    "id": "Y4wdrk2DBhXA",
    "outputId": "4cb0c593-dbc0-4d81-bb3f-63dc3dc12f08"
   },
   "outputs": [],
   "source": [
    "df"
   ]
  },
  {
   "cell_type": "code",
   "execution_count": null,
   "metadata": {
    "colab": {
     "base_uri": "https://localhost:8080/",
     "height": 206
    },
    "id": "aNf63d7rBisM",
    "outputId": "598fbed7-d61a-499f-c6ac-e51a4c2c8396"
   },
   "outputs": [],
   "source": [
    "df.set_index('Date', inplace=True)\n",
    "df"
   ]
  },
  {
   "cell_type": "code",
   "execution_count": null,
   "metadata": {
    "colab": {
     "base_uri": "https://localhost:8080/"
    },
    "id": "7dCsDWAMBn0Y",
    "outputId": "8d550a9e-f54a-41f8-f43e-548208937daf"
   },
   "outputs": [],
   "source": [
    "# Creating a DatetimeIndex from a list of dates\n",
    "dates = ['2023-06-18', '2023-06-19', '2023-06-20']\n",
    "datetime_index = pd.DatetimeIndex(dates)\n",
    "print(datetime_index)"
   ]
  },
  {
   "cell_type": "code",
   "execution_count": null,
   "metadata": {
    "colab": {
     "base_uri": "https://localhost:8080/"
    },
    "id": "elFZnB6FCj2D",
    "outputId": "1a3d9e1b-4fed-46de-bcd9-d9d6a0c66022"
   },
   "outputs": [],
   "source": [
    "# Creating a DatetimeIndex using pd.date_range\n",
    "date_range = pd.date_range(start='2023-01-01', periods=10, freq='D')\n",
    "\n",
    "# Creating a Series with DatetimeIndex\n",
    "data = np.random.rand(len(date_range))\n",
    "series = pd.Series(data, index=date_range)\n",
    "print(series)"
   ]
  },
  {
   "cell_type": "code",
   "execution_count": null,
   "metadata": {
    "colab": {
     "base_uri": "https://localhost:8080/",
     "height": 363
    },
    "id": "B_uRjiISB6aj",
    "outputId": "f2e5a65c-d8b1-4afb-a9fc-5ae49ca26122"
   },
   "outputs": [],
   "source": [
    "# Using a DatetimeIndex in a DataFrame\n",
    "# Creating a DataFrame with DatetimeIndex\n",
    "data = { 'Sales': [100, 150, 200, 130, 120, 170, 180, 160, 190, 200],\n",
    "        'Expenses': [90, 110, 180, 120, 110, 150, 160, 140, 170, 180]\n",
    "         }\n",
    "df = pd.DataFrame(data, index=date_range)\n",
    "df"
   ]
  },
  {
   "cell_type": "code",
   "execution_count": null,
   "metadata": {
    "colab": {
     "base_uri": "https://localhost:8080/"
    },
    "id": "FIHtO58DCreC",
    "outputId": "4cab84f9-8087-4af5-d168-270f323f9e1d"
   },
   "outputs": [],
   "source": [
    "# Creating a PeriodIndex from a list of period strings\n",
    "periods = ['2023-06', '2023-07', '2023-08']\n",
    "period_index = pd.PeriodIndex(periods, freq='M')\n",
    "print(period_index)"
   ]
  },
  {
   "cell_type": "code",
   "execution_count": null,
   "metadata": {
    "colab": {
     "base_uri": "https://localhost:8080/"
    },
    "id": "oelLjLD2CznU",
    "outputId": "32e8c88e-779f-4c65-d7d9-ffd12de51ad5"
   },
   "outputs": [],
   "source": [
    "# Creating a PeriodIndex with a range of periods\n",
    "period_range = pd.period_range(start='2023-06', end='2023-12', freq='M')\n",
    "print(period_range)"
   ]
  },
  {
   "cell_type": "code",
   "execution_count": null,
   "metadata": {
    "colab": {
     "base_uri": "https://localhost:8080/",
     "height": 268
    },
    "id": "pLtYHlEMC61m",
    "outputId": "594dfb2a-677a-45ae-9769-bc1d3e504e05"
   },
   "outputs": [],
   "source": [
    "data = {'Values': [100, 200, 300, 400, 500, 600, 700]}\n",
    "df = pd.DataFrame(data, index=period_range)\n",
    "df"
   ]
  },
  {
   "cell_type": "markdown",
   "metadata": {
    "id": "8A-xue7nz7pB"
   },
   "source": [
    "# **Resampling**"
   ]
  },
  {
   "cell_type": "markdown",
   "metadata": {
    "id": "YWbjoxve08se"
   },
   "source": [
    "**Downsampling**"
   ]
  },
  {
   "cell_type": "code",
   "execution_count": null,
   "metadata": {
    "colab": {
     "base_uri": "https://localhost:8080/"
    },
    "id": "3SywZWyxz914",
    "outputId": "a1a04c73-e76e-4d9a-e1af-be48c254b4c3"
   },
   "outputs": [],
   "source": [
    "# Creating a date range\n",
    "dates = pd.date_range(start='2023-01-01', end='2023-03-31', freq='D')\n",
    "dates"
   ]
  },
  {
   "cell_type": "code",
   "execution_count": null,
   "metadata": {
    "colab": {
     "base_uri": "https://localhost:8080/",
     "height": 423
    },
    "id": "zbjGMmW80Ig3",
    "outputId": "ca92f4ef-321d-4bad-8057-1a01be03cf34"
   },
   "outputs": [],
   "source": [
    "# Creating a DataFrame with random values\n",
    "data = np.random.randn(len(dates))\n",
    "df = pd.DataFrame(data, index=dates, columns=['Value'])\n",
    "df"
   ]
  },
  {
   "cell_type": "code",
   "execution_count": null,
   "metadata": {
    "colab": {
     "base_uri": "https://localhost:8080/",
     "height": 143
    },
    "id": "YIBpNhUh0dfp",
    "outputId": "413a90aa-0ac2-4ded-cb13-c27d3c3c9572"
   },
   "outputs": [],
   "source": [
    "# Downsampling to monthly frequency\n",
    "monthly_df = df.resample('ME').mean()\n",
    "monthly_df"
   ]
  },
  {
   "cell_type": "markdown",
   "metadata": {
    "id": "rb5pajxr0_5K"
   },
   "source": [
    "**Upsampling**"
   ]
  },
  {
   "cell_type": "code",
   "execution_count": null,
   "metadata": {
    "colab": {
     "base_uri": "https://localhost:8080/"
    },
    "id": "zOMpMefe0Woa",
    "outputId": "fc0203a6-388e-47cb-b4c7-a041d008de80"
   },
   "outputs": [],
   "source": [
    "# Creating a date range with monthly frequency\n",
    "dates = pd.date_range(start='2023-01-01', end='2023-03-31', freq='ME')\n",
    "dates"
   ]
  },
  {
   "cell_type": "code",
   "execution_count": null,
   "metadata": {
    "colab": {
     "base_uri": "https://localhost:8080/",
     "height": 143
    },
    "id": "GGlUyjtc1JDS",
    "outputId": "c1ce8b0e-cd83-494a-f845-3212144c07f6"
   },
   "outputs": [],
   "source": [
    "# Creating a DataFrame with random values\n",
    "data = np.random.randn(len(dates))\n",
    "df = pd.DataFrame(data, index=dates, columns=['Value'])\n",
    "df"
   ]
  },
  {
   "cell_type": "code",
   "execution_count": null,
   "metadata": {
    "colab": {
     "base_uri": "https://localhost:8080/",
     "height": 1000
    },
    "id": "gR_imQea1Rxp",
    "outputId": "d3365720-1263-4689-f203-7c2cc72c35ca"
   },
   "outputs": [],
   "source": [
    "# Upsampling to daily frequency\n",
    "daily_df = df.resample('D').asfreq()\n",
    "daily_df"
   ]
  },
  {
   "cell_type": "code",
   "execution_count": null,
   "metadata": {
    "colab": {
     "base_uri": "https://localhost:8080/",
     "height": 1000
    },
    "id": "rGYtztpn1exf",
    "outputId": "57a14610-00d0-48cd-e8e8-a6be26b33a85"
   },
   "outputs": [],
   "source": [
    "interpolated = daily_df.interpolate(method='linear')\n",
    "interpolated"
   ]
  },
  {
   "cell_type": "markdown",
   "metadata": {
    "id": "OIFwXIhI5Yaj"
   },
   "source": [
    "# **Moving Window Functions**"
   ]
  },
  {
   "cell_type": "markdown",
   "metadata": {
    "id": "zyZVLPNb5cXj"
   },
   "source": [
    "**Rolling Operator**"
   ]
  },
  {
   "cell_type": "code",
   "execution_count": null,
   "metadata": {
    "colab": {
     "base_uri": "https://localhost:8080/",
     "height": 423
    },
    "id": "wEgMJHcv4WVu",
    "outputId": "d8347b06-e7a9-44db-c5af-028376c492f7"
   },
   "outputs": [],
   "source": [
    "# Create a sample time series data\n",
    "dates = pd.date_range(start='2024-01-01', periods=100, freq='D')\n",
    "data = np.random.randn(100)\n",
    "df = pd.DataFrame({'Date': dates, 'Value': data})\n",
    "df"
   ]
  },
  {
   "cell_type": "code",
   "execution_count": null,
   "metadata": {
    "colab": {
     "base_uri": "https://localhost:8080/",
     "height": 455
    },
    "id": "6TdPqIOR50HV",
    "outputId": "514d407d-10f4-4c42-db4b-0db613393b73"
   },
   "outputs": [],
   "source": [
    "# Set the 'Date' column as the index\n",
    "df.set_index('Date', inplace=True)\n",
    "df"
   ]
  },
  {
   "cell_type": "code",
   "execution_count": null,
   "metadata": {
    "colab": {
     "base_uri": "https://localhost:8080/"
    },
    "id": "8crPQZQ155cY",
    "outputId": "ac3624a7-d924-4383-f99e-35360e079932"
   },
   "outputs": [],
   "source": [
    "# Calculate the rolling mean with a window size of 7 days\n",
    "df['RollingMean'] = df['Value'].rolling(window=7).mean()\n",
    "print(df.to_string())"
   ]
  },
  {
   "cell_type": "code",
   "execution_count": null,
   "metadata": {
    "colab": {
     "base_uri": "https://localhost:8080/",
     "height": 564
    },
    "id": "HVT0RDtw6_jS",
    "outputId": "b12b391a-52f7-472f-bacd-051de92c5d60"
   },
   "outputs": [],
   "source": [
    "# Plot the original data and the rolling mean\n",
    "plt.figure(figsize=(10, 6))\n",
    "plt.plot(df['Value'], label='Original Data')\n",
    "plt.plot(df['RollingMean'], label='7-Day Rolling Mean', color='red')\n",
    "plt.title('Rolling Window Function')\n",
    "plt.xlabel('Date')\n",
    "plt.ylabel('Value')\n",
    "plt.legend()\n",
    "plt.show()"
   ]
  },
  {
   "cell_type": "markdown",
   "metadata": {
    "id": "maYjmt7E7U4F"
   },
   "source": [
    "**Using Expanding Operator**"
   ]
  },
  {
   "cell_type": "code",
   "execution_count": null,
   "metadata": {
    "colab": {
     "base_uri": "https://localhost:8080/",
     "height": 423
    },
    "id": "flqXm9wO7RSb",
    "outputId": "e722d02a-a297-490e-f21a-529640f0a5a4"
   },
   "outputs": [],
   "source": [
    "# Create a sample time series data\n",
    "dates = pd.date_range(start='2024-01-01', periods=100, freq='D')\n",
    "data = np.random.randn(100)\n",
    "df = pd.DataFrame({'Date': dates, 'Value': data})\n",
    "df"
   ]
  },
  {
   "cell_type": "code",
   "execution_count": null,
   "metadata": {
    "colab": {
     "base_uri": "https://localhost:8080/",
     "height": 455
    },
    "id": "VN2pGASJ7iSj",
    "outputId": "aa006231-a958-4b01-e008-a90a2605aeb4"
   },
   "outputs": [],
   "source": [
    "# Set the 'Date' column as the index\n",
    "df.set_index('Date', inplace=True)\n",
    "df"
   ]
  },
  {
   "cell_type": "code",
   "execution_count": null,
   "metadata": {
    "colab": {
     "base_uri": "https://localhost:8080/",
     "height": 455
    },
    "id": "EqnAxh1r7mmw",
    "outputId": "c242c718-76c3-4bc5-e5d5-f6b6c34ff5ed"
   },
   "outputs": [],
   "source": [
    "# Calculate the expanding mean\n",
    "df['ExpandingMean'] = df['Value'].expanding().mean()\n",
    "df"
   ]
  },
  {
   "cell_type": "code",
   "execution_count": null,
   "metadata": {
    "colab": {
     "base_uri": "https://localhost:8080/",
     "height": 564
    },
    "id": "2RqjkCKA77rM",
    "outputId": "1debf799-0097-4a7a-c6db-ff94942fb12e"
   },
   "outputs": [],
   "source": [
    "# Plot the original data and the expanding mean\n",
    "plt.figure(figsize=(10, 6))\n",
    "plt.plot(df['Value'], label='Original Data')\n",
    "plt.plot(df['ExpandingMean'], label='Expanding Mean', color='green')\n",
    "plt.title('Expanding Window Function')\n",
    "plt.xlabel('Date')\n",
    "plt.ylabel('Value')\n",
    "plt.legend()\n",
    "plt.show()"
   ]
  }
 ],
 "metadata": {
  "colab": {
   "provenance": []
  },
  "kernelspec": {
   "display_name": "Python 3 (ipykernel)",
   "language": "python",
   "name": "python3"
  },
  "language_info": {
   "codemirror_mode": {
    "name": "ipython",
    "version": 3
   },
   "file_extension": ".py",
   "mimetype": "text/x-python",
   "name": "python",
   "nbconvert_exporter": "python",
   "pygments_lexer": "ipython3",
   "version": "3.12.4"
  }
 },
 "nbformat": 4,
 "nbformat_minor": 4
}
