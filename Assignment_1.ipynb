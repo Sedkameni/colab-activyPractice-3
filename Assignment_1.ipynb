{
 "cells": [
  {
   "cell_type": "markdown",
   "id": "8ab716f7-3c18-4e66-8bc4-17f7e6cbdef1",
   "metadata": {},
   "source": [
    "**Answer All the Questions in this notebook.** <br/>\n",
    "**Do not delete any of the question cells** <br/>\n",
    "**You can create new cells as needed**"
   ]
  },
  {
   "cell_type": "markdown",
   "id": "3092a209-98fb-442b-96fc-14e67a1c5626",
   "metadata": {},
   "source": [
    "Create a python variable $a$ with the value $5+6i$ and another variable $b$ with the value $2+5j$"
   ]
  },
  {
   "cell_type": "code",
   "execution_count": null,
   "id": "6a1bd905-cee7-4f66-ad33-7f6fd01e936b",
   "metadata": {},
   "outputs": [],
   "source": []
  },
  {
   "cell_type": "markdown",
   "id": "6bc2660d-25cd-42cf-a881-4446a94b865d",
   "metadata": {},
   "source": [
    "Create variables $a\\_b$ the conjugate of $a$ and $b\\_b$ the conjugate of $b$ "
   ]
  },
  {
   "cell_type": "code",
   "execution_count": null,
   "id": "9dadc3e2-3955-4a4e-853a-7d52604663fc",
   "metadata": {},
   "outputs": [],
   "source": []
  },
  {
   "cell_type": "markdown",
   "id": "3c6297e1-6338-48bb-92d1-57f8bcbf170f",
   "metadata": {},
   "source": [
    "Create the variables $aDivb$ and $bDiva$ which have the values $\\displaystyle{\\frac{a}{b}}$ and $\\displaystyle{\\frac{b}{a}}$ respectively."
   ]
  },
  {
   "cell_type": "code",
   "execution_count": null,
   "id": "157b8227-dcdc-4b4d-b0e5-ef41edef2a7d",
   "metadata": {},
   "outputs": [],
   "source": []
  },
  {
   "cell_type": "markdown",
   "id": "8c02fc56-a426-4d36-ae60-e9caed71eacd",
   "metadata": {},
   "source": [
    "Also create the variables $aDivb2$ and $bDiva2$ which have the values $\\displaystyle{\\frac{a\\cdot b\\_b}{b\\cdot b\\_b}}$ and $\\displaystyle{\\frac{b\\cdot a\\_b}{a\\cdot a\\_b}}$ respectively. Verify that $\\displaystyle{\\frac{a\\cdot b\\_b}{b\\cdot b\\_b}}=\\displaystyle{\\frac{a}{b}}$ and $\\displaystyle{\\frac{b\\cdot a\\_b}{a\\cdot a\\_b}}=\\displaystyle{\\frac{b}{a}}$. We are trying to confirm the complex number operation $\\displaystyle{\\frac{a}{b}}=\\displaystyle{\\frac{a\\bar{b}}{b\\bar{b}}}$"
   ]
  },
  {
   "cell_type": "code",
   "execution_count": null,
   "id": "f42fbda4-4f4f-468b-9956-4c4034d7c133",
   "metadata": {},
   "outputs": [],
   "source": []
  },
  {
   "cell_type": "markdown",
   "id": "4f2ed709-eee8-404e-bb48-0fcf5ad08f5a",
   "metadata": {},
   "source": [
    "Create the variables **`a_rat`** and **`b_rat`** with the expressions $a\\cdot a\\_b$ and $b\\cdot b\\_b.$ Also create the variables **`a_rat2`** and **`b_rat2`** as $(\\mathcal{R}e(a)^2+\\mathcal{I}m(a)^2)$ and $(\\mathcal{R}e(b)^2+\\mathcal{I}m(b)^2)$ respectively where $\\mathcal{R}e(z)$ and $\\mathcal{I}m(z)$ represent the real and imaginary parts of a comlex number respectively."
   ]
  },
  {
   "cell_type": "code",
   "execution_count": null,
   "id": "1892301c-048a-4496-8fd6-43c5fa652690",
   "metadata": {},
   "outputs": [],
   "source": []
  },
  {
   "cell_type": "markdown",
   "id": "b662229b-ce97-46e6-b21e-062fcab46c9f",
   "metadata": {},
   "source": [
    "What is the relationship between **`a_rat`** and **`a_rat2`** and between **`b_rat`** and **`b_rat2`**. What identity in complex numbers is this verifying?"
   ]
  },
  {
   "cell_type": "code",
   "execution_count": null,
   "id": "8975bdff-fdd0-49a7-8023-3a95b971a2fd",
   "metadata": {},
   "outputs": [],
   "source": []
  },
  {
   "cell_type": "markdown",
   "id": "01809b31-e441-42de-928b-bd1a36dadead",
   "metadata": {},
   "source": [
    "Create variables **`a1,b1,c1`** with the values 2, 9 and 9 respectively representing the quadratic equation $2x^2+9x+9.$ We want to find the roots **`x1,x2`** of the equation using the expressions\n",
    "$$ x1 = \\displaystyle{\\frac{-b+\\sqrt{b^2-4ac}}{2a}} $$ and\n",
    "$$ x2 = \\displaystyle{\\frac{-b-\\sqrt{b^2-4ac}}{2a}} $$"
   ]
  },
  {
   "cell_type": "code",
   "execution_count": null,
   "id": "3e130304-1acc-4c69-9f46-082f641390c9",
   "metadata": {},
   "outputs": [],
   "source": []
  },
  {
   "cell_type": "markdown",
   "id": "38fbc211-13e4-46c8-b343-d009201b7b37",
   "metadata": {},
   "source": [
    "Let's complete the square on the expression above by finding $A,B,C$ such that $$2x^2+9x+9=A(x+B)^2+C.$$ By expanding, we get that $$2x^2+9x+9=Ax^2+2ABx+AB^2+C.$$ Solving gives $A=2,$ $B=\\frac{9}{2A},$ $C=9-AB^2.$ Find the variables **`A,B,C`** that completes the square in the expression above and determine the lowest point on the quadratic."
   ]
  },
  {
   "cell_type": "code",
   "execution_count": null,
   "id": "d1f2b54e-153f-4693-91fc-acbd41a43f7a",
   "metadata": {},
   "outputs": [],
   "source": []
  },
  {
   "cell_type": "markdown",
   "id": "173e3795-7976-4746-9fee-2d8f0c016f36",
   "metadata": {},
   "source": [
    "Create a dictionary **`F`** with elements such that **`F[0]=0`** and **`F[1]=1`**"
   ]
  },
  {
   "cell_type": "code",
   "execution_count": null,
   "id": "3b578370-42a6-4cdc-a785-a0465b09e121",
   "metadata": {},
   "outputs": [],
   "source": []
  },
  {
   "cell_type": "markdown",
   "id": "0383f75c-b5af-4d09-be06-fcaa80b8019e",
   "metadata": {},
   "source": [
    "We want to add 5 extra elements to **`F`** using the rule **`F[i]=F[i-1]+F[i-2]`**"
   ]
  },
  {
   "cell_type": "code",
   "execution_count": null,
   "id": "3cad5d86-b02c-4c62-b8ee-c2b743b1d23a",
   "metadata": {},
   "outputs": [],
   "source": []
  },
  {
   "cell_type": "markdown",
   "id": "ac70d223-2b45-49cc-9302-d71d604f471c",
   "metadata": {},
   "source": [
    "Create a list **`F_diff`** with elements **`F_diff[i]=F[i]/F[i-1]`** for $i=2,3,\\ldots$. "
   ]
  },
  {
   "cell_type": "code",
   "execution_count": null,
   "id": "412b3015-d8b5-4074-9b12-029538d98519",
   "metadata": {},
   "outputs": [],
   "source": []
  }
 ],
 "metadata": {
  "kernelspec": {
   "display_name": "Python 3 (ipykernel)",
   "language": "python",
   "name": "python3"
  },
  "language_info": {
   "codemirror_mode": {
    "name": "ipython",
    "version": 3
   },
   "file_extension": ".py",
   "mimetype": "text/x-python",
   "name": "python",
   "nbconvert_exporter": "python",
   "pygments_lexer": "ipython3",
   "version": "3.12.9"
  }
 },
 "nbformat": 4,
 "nbformat_minor": 5
}
