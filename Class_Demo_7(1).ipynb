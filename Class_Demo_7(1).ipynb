{
 "cells": [
  {
   "cell_type": "code",
   "execution_count": null,
   "metadata": {
    "id": "2EhlB_run0HN"
   },
   "outputs": [],
   "source": [
    "# => Concatenation\n",
    "\n",
    "## ...using the plus (\"+\"\") operator\n",
    "\n",
    "text_1 = \"Welcome\"\n",
    "text_2 = \"Pythonistas\"\n",
    "combinedText = text_1 + \",\" + \" \" + text_2 + \"!\"\n",
    "print(combinedText)"
   ]
  },
  {
   "cell_type": "code",
   "execution_count": null,
   "metadata": {
    "id": "KI3k00Xoo9lp"
   },
   "outputs": [],
   "source": [
    "## ...using f-strings\n",
    "\n",
    "salutation = f\"{text_1} {text_2}!\"\n",
    "salutation\n"
   ]
  },
  {
   "cell_type": "code",
   "execution_count": null,
   "metadata": {
    "id": "svK8nQnLrTuN"
   },
   "outputs": [],
   "source": [
    "## ...using '.join' method\n",
    "\n",
    "fragments = [\"O\", \"what\", \"fun\", \"to\", \"code\", \"in\", \"Python!\" ]\n",
    "whole_statement = \"\".join(fragments) #There's a tiny catch here 😜.\n",
    "whole_statement"
   ]
  },
  {
   "cell_type": "code",
   "execution_count": null,
   "metadata": {
    "id": "Fxz1nb_fws66"
   },
   "outputs": [],
   "source": [
    "## ...using \".join\" method with \"/\" operator\n",
    "\n",
    "directory_tree = [\"myName\", \"courses\", \"data_wrangling\", \"submissions\", \"assignment_07.zip\" ]\n",
    "full_filepath = \"/\".join(directory_tree)\n",
    "full_filepath"
   ]
  },
  {
   "cell_type": "code",
   "execution_count": null,
   "metadata": {
    "id": "6n6x67wluRrZ"
   },
   "outputs": [],
   "source": [
    "# => Extracting Substrings [aka Sli/cing]\n",
    "\n",
    "salutation = \"Welcome Pythonistas!\"\n",
    "\n",
    "## ...extract only the first word\n",
    "salutation[0:7]"
   ]
  },
  {
   "cell_type": "code",
   "execution_count": null,
   "metadata": {
    "id": "P_pPC2PDxa2A"
   },
   "outputs": [],
   "source": [
    "## ...extract only the second word\n",
    "\n",
    "salutation[8:]"
   ]
  },
  {
   "cell_type": "code",
   "execution_count": null,
   "metadata": {
    "id": "ui46Z3WtxhRr"
   },
   "outputs": [],
   "source": [
    "## ...print backwards (\"Mirror image\" i.e. due to the lateral inversion)\n",
    "\n",
    "salutation[::-1]"
   ]
  },
  {
   "cell_type": "code",
   "execution_count": null,
   "metadata": {
    "id": "-kpm5e1Wx1f6"
   },
   "outputs": [],
   "source": [
    "## ...extract substring and store in another variable\n",
    "\n",
    "ourIdentity = salutation[8:19]\n",
    "ourIdentity"
   ]
  },
  {
   "cell_type": "code",
   "execution_count": null,
   "metadata": {
    "id": "1XH7d8dkyayT"
   },
   "outputs": [],
   "source": [
    "# => String Formatting\n",
    "\n",
    "## ...using f-strings with expressions (I)\n",
    "\n",
    "own = 12\n",
    "gift = 10\n",
    "\n",
    "inventory = f\"I had {own} apples and was given {gift} apples, so I now have a total of {own + gift} apples!\"\n",
    "inventory"
   ]
  },
  {
   "cell_type": "code",
   "execution_count": null,
   "metadata": {
    "id": "6nm1LI0AQ0Gt"
   },
   "outputs": [],
   "source": [
    "## ...using f-strings with expressions (II)\n",
    "\n",
    "name_request = str(input(\"What's your name?: \"))\n",
    "age_request = int(input(\"How old are you?: \"))\n",
    "location_request = str(input(f\"And where are you from, {name_request}?: \"))\n",
    "\n",
    "welcome_msg = f\"Hey {name_request}! I see you're a {age_request}-year-old from {location_request.title()}.\"\n",
    "welcome_msg"
   ]
  },
  {
   "cell_type": "code",
   "execution_count": null,
   "metadata": {
    "id": "eVINLOLfJu8Y"
   },
   "outputs": [],
   "source": [
    "## ...using f-strings and embedding a function\n",
    "\n",
    "def inch_to_cm(height_in_inches):\n",
    "  return height_in_inches * 2.54\n",
    "\n",
    "height_request = float(input(f\"And what might your height (in inches) be, {name_request}-from-{location_request}?: \"))\n",
    "\n",
    "height_confirmation = f\"Thanks for letting me know you are {inch_to_cm(height_request)} cm tall.\"\n",
    "height_confirmation"
   ]
  },
  {
   "cell_type": "code",
   "execution_count": null,
   "metadata": {
    "id": "gxWfMlstZZLL"
   },
   "outputs": [],
   "source": [
    "## ...using .format() method\n",
    "\n",
    "welcome_msg_2 = \"Hello again, {}, the {}-year-old from {}.\".format(name_request, age_request, location_request)\n",
    "welcome_msg_2 = f\"Hello again, {name_request}, the {age_request}-year-old from {location_request}.\"\n",
    "welcome_msg_2"
   ]
  },
  {
   "cell_type": "code",
   "execution_count": null,
   "metadata": {
    "id": "vMIBzjD0RAlf"
   },
   "outputs": [],
   "source": [
    "## ...using % operator and floating points\n",
    "\n",
    "pi = 10.7481931\n",
    "formatted_pi = \"Pi is approximately %.2f.\" %pi\n",
    "print(formatted_pi)"
   ]
  },
  {
   "cell_type": "code",
   "execution_count": null,
   "metadata": {
    "id": "uksGkqFHR2nU"
   },
   "outputs": [],
   "source": [
    "# => Miscellaneous String Operations\n",
    "\n",
    "## ...splitting by commas\n",
    "combo = \"Ontario, Alberta, Quebec, Manitoba\"\n",
    "standalone = combo.split(',')\n",
    "standalone"
   ]
  },
  {
   "cell_type": "code",
   "execution_count": null,
   "metadata": {
    "id": "4b8rEgZlW4mX"
   },
   "outputs": [],
   "source": [
    "## ...splitting by spaces\n",
    "wide_apart = \"This    is  some       weirdly     spaced-out   sentence\"\n",
    "print(wide_apart.split(','))\n",
    "print(wide_apart.split())\n"
   ]
  },
  {
   "cell_type": "code",
   "execution_count": null,
   "metadata": {
    "id": "hbga8fXgcHSa"
   },
   "outputs": [],
   "source": [
    "## ...stripping whitespaces\n",
    "\n",
    "trim_Me = \" This text needs leading and trailing spaces removed. \"\n",
    "trim_Me.strip()"
   ]
  },
  {
   "cell_type": "code",
   "execution_count": null,
   "metadata": {
    "id": "LotM-UjLfE3O"
   },
   "outputs": [],
   "source": [
    "message = \"   Welcome to the world of Python programming!   \"\n",
    "words = [item.strip() for item in message.split()]\n",
    "print(words)"
   ]
  },
  {
   "cell_type": "code",
   "execution_count": null,
   "metadata": {
    "id": "8baaHTA7egbn"
   },
   "outputs": [],
   "source": [
    "## ...combining stripping and splitting\n",
    "trim_Me_Proper = \"   This    is  some       weirdly     spaced-out   sentence  that also needs leading and   trailing spaces removed. \"\n",
    "\n",
    "well_trimmed = [word.strip() for word in trim_Me_Proper.split()]\n",
    "well_trimmed"
   ]
  },
  {
   "cell_type": "code",
   "execution_count": null,
   "metadata": {
    "id": "d4-KKwgWhemQ"
   },
   "outputs": [],
   "source": [
    "## ...replacing one string with another\n",
    "\n",
    "intro = \"Welcome to Python Class.\"\n",
    "freshIntro = intro.replace(\"Python\", \"Tableau\")\n",
    "freshIntro"
   ]
  },
  {
   "cell_type": "code",
   "execution_count": null,
   "metadata": {
    "id": "H1no_B1Hh3cC"
   },
   "outputs": [],
   "source": [
    "## ...switching cases\n",
    "\n",
    "sentence = \"Watch me have my cases changed\"\n",
    "\n",
    "print(sentence.lower())\n",
    "\n",
    "print(sentence.capitalize())\n",
    "\n",
    "print(sentence.title())\n",
    "\n",
    "print(sentence.upper())"
   ]
  },
  {
   "cell_type": "code",
   "execution_count": null,
   "metadata": {
    "id": "nuErCWp0i6dj"
   },
   "outputs": [],
   "source": [
    "# => Searching Strings\n",
    "\n",
    "## ...using '.index()' and '.find()' methods to locate the starting index of a substring\n",
    "saying = \"Python is fun... when your code works!\"\n",
    "\n",
    "# print(saying.index('kite'))\n",
    "print(saying.find('fun'))"
   ]
  },
  {
   "cell_type": "code",
   "execution_count": null,
   "metadata": {
    "id": "wElktiEMkVSZ"
   },
   "outputs": [],
   "source": [
    "## ...using '.count()' to count the occurrence of a substring\n",
    "\n",
    "saying.count('o')"
   ]
  },
  {
   "cell_type": "code",
   "execution_count": null,
   "metadata": {
    "id": "vTp8nDqKlVdy"
   },
   "outputs": [],
   "source": [
    "# => Regular Expressions (RegEx)\n",
    "\n",
    "import re\n",
    "\n",
    "## ...removing non-word characters\n",
    "\n",
    "quickText = \"This is, a:test;string...with various!characters\"\n",
    "\n",
    "pattern = re.compile(r'\\W+')\n",
    "\n",
    "words = pattern.split(quickText)\n",
    "\n",
    "words"
   ]
  },
  {
   "cell_type": "code",
   "execution_count": null,
   "metadata": {
    "id": "d89OiVhvu6sf"
   },
   "outputs": [],
   "source": [
    "## ...using .'search' to find the first match\n",
    "xpressn = \"Top Skills for Data Nerds include Python, Tableau, Power BI, SQL, Excel.\"\n",
    "\n",
    "lookForMe = r'\\bE\\w*l\\b' # Pattern: word starting with 'E' and ending with 'l'\n",
    "\n",
    "skillHunt = re.search(lookForMe, xpressn)\n",
    "\n",
    "if skillHunt:\n",
    "    print(\"Match found:\", skillHunt.group())\n",
    "else:\n",
    "    print(\"No match found.\")"
   ]
  },
  {
   "cell_type": "code",
   "execution_count": null,
   "metadata": {
    "id": "3KHuUE5QnaQZ"
   },
   "outputs": [],
   "source": [
    "## ...using .'findall' method to identify patterns\n",
    "\n",
    "import re\n",
    "\n",
    "data_Info = \"Over 1000 BIA jobs and 15000 DTA jobs are available in Canada on LinkedIn as of July 2025.\"\n",
    "\n",
    "# Extract numbers\n",
    "numbers = re.findall(r'\\d+', data_Info)\n",
    "\n",
    "# Extract words with 4 or more letters\n",
    "long_words = re.findall(r'\\b[A-Za-z]{4,}\\b', data_Info)\n",
    "\n",
    "print(\"Numbers:\", numbers)\n",
    "print(\"Words with 4+ letters:\", long_words)"
   ]
  },
  {
   "cell_type": "code",
   "execution_count": null,
   "metadata": {
    "id": "r6_IWM9ZyM8v"
   },
   "outputs": [],
   "source": [
    "text = \"Top Cloud Environments that Data Folks use include AWS, Azure, Snowflake, DataBricks, GCP.\"\n",
    "\n",
    "pattern = r'\\bAWS\\b'\n",
    "\n",
    "anyLuck = re.match(pattern, text)\n",
    "\n",
    "if anyLuck:\n",
    "    print(\"Match found:\", anyLuck.group())\n",
    "else:\n",
    "    print(\"No match found.\")\n"
   ]
  }
 ],
 "metadata": {
  "colab": {
   "provenance": []
  },
  "kernelspec": {
   "display_name": "Python 3 (ipykernel)",
   "language": "python",
   "name": "python3"
  },
  "language_info": {
   "codemirror_mode": {
    "name": "ipython",
    "version": 3
   },
   "file_extension": ".py",
   "mimetype": "text/x-python",
   "name": "python",
   "nbconvert_exporter": "python",
   "pygments_lexer": "ipython3",
   "version": "3.12.4"
  }
 },
 "nbformat": 4,
 "nbformat_minor": 4
}
