{
 "cells": [
  {
   "cell_type": "code",
   "execution_count": null,
   "metadata": {
    "id": "Z3B6YpsGmI9K"
   },
   "outputs": [],
   "source": [
    "import pandas as pd\n",
    "import sqlite3"
   ]
  },
  {
   "cell_type": "code",
   "execution_count": null,
   "metadata": {
    "id": "HP0-UpGxmpdJ"
   },
   "outputs": [],
   "source": [
    "# Create a connection\n",
    "conn = sqlite3.connect('Rumba.db')\n",
    "\n",
    "# Create a cursor object\n",
    "cur = conn.cursor()"
   ]
  },
  {
   "cell_type": "code",
   "execution_count": null,
   "metadata": {
    "colab": {
     "base_uri": "https://localhost:8080/"
    },
    "id": "dcdRx-f1n1YW",
    "outputId": "ed22311a-88b7-4622-9475-36f668fbe9a2"
   },
   "outputs": [],
   "source": [
    "# Fetch table names\n",
    "cur.execute(\"SELECT name FROM sqlite_master WHERE type='table';\")\n",
    "tables = cur.fetchall()\n",
    "\n",
    "# Print table names as a list\n",
    "for table in tables:\n",
    "    print(table[0])"
   ]
  },
  {
   "cell_type": "code",
   "execution_count": null,
   "metadata": {
    "id": "bZ-0cJB1m4cG"
   },
   "outputs": [],
   "source": [
    "# Load department table into a DataFrame\n",
    "department = pd.read_sql('SELECT * FROM department', conn)\n"
   ]
  },
  {
   "cell_type": "code",
   "execution_count": null,
   "metadata": {
    "colab": {
     "base_uri": "https://localhost:8080/",
     "height": 237
    },
    "id": "Wx9OOhhBnDNi",
    "outputId": "79ab5b1f-5285-4b6c-8085-2ceee5001d20"
   },
   "outputs": [],
   "source": [
    "# Print dataframe\n",
    "department\n"
   ]
  },
  {
   "cell_type": "code",
   "execution_count": null,
   "metadata": {
    "colab": {
     "base_uri": "https://localhost:8080/",
     "height": 269
    },
    "id": "_m-MPDLVUgK7",
    "outputId": "15de2e97-74f8-4767-b035-1d778c13f3a5"
   },
   "outputs": [],
   "source": [
    "# Load manager table into a DataFrame\n",
    "manager = pd.read_sql('SELECT * FROM manager', conn)\n",
    "manager"
   ]
  },
  {
   "cell_type": "code",
   "execution_count": null,
   "metadata": {
    "colab": {
     "base_uri": "https://localhost:8080/"
    },
    "id": "9VCO8cnQofUv",
    "outputId": "b2acd4a1-3b9a-48d5-a330-2fdba36f4813"
   },
   "outputs": [],
   "source": [
    "# Query database to get employee table and display data\n",
    "cur.execute(\"SELECT * FROM employee\")\n",
    "employees = cur.fetchall()\n",
    "\n",
    "# Display the rows\n",
    "print('\\nEmployee table content:')\n",
    "for employee in employees:\n",
    "    print(employee)"
   ]
  },
  {
   "cell_type": "code",
   "execution_count": null,
   "metadata": {
    "colab": {
     "base_uri": "https://localhost:8080/",
     "height": 519
    },
    "id": "ldtVwJE1pHMe",
    "outputId": "3790c744-7ae4-4554-ec57-3fed0be4366d"
   },
   "outputs": [],
   "source": [
    "# Load employee table into a DataFrame\n",
    "employee_df = pd.read_sql('SELECT * FROM employee', conn)\n",
    "employee_df"
   ]
  },
  {
   "cell_type": "code",
   "execution_count": null,
   "metadata": {
    "id": "CLXy97ZtpYea"
   },
   "outputs": [],
   "source": [
    "# Join employee and department table\n",
    "#Retrieving data\n",
    "sql = '''SELECT e.employee_id, e.full_name, e.job_role, e.manager_id, d.department_name\n",
    "        FROM employee e INNER JOIN department d\n",
    "        ON e.department_id = d.department_id'''"
   ]
  },
  {
   "cell_type": "code",
   "execution_count": null,
   "metadata": {
    "id": "Z_Y9uEtOpuN-"
   },
   "outputs": [],
   "source": [
    "#Executing the query\n",
    "cur.execute(sql)\n",
    "\n",
    "#Fetching all the rows returned by the query\n",
    "result = cur.fetchall();"
   ]
  },
  {
   "cell_type": "code",
   "execution_count": null,
   "metadata": {
    "colab": {
     "base_uri": "https://localhost:8080/"
    },
    "id": "YzLXSC8spz-u",
    "outputId": "62469b7a-25b0-48cc-9192-dd156af7289f"
   },
   "outputs": [],
   "source": [
    "result"
   ]
  },
  {
   "cell_type": "code",
   "execution_count": null,
   "metadata": {
    "colab": {
     "base_uri": "https://localhost:8080/",
     "height": 241
    },
    "id": "9HLaaRjsp_bV",
    "outputId": "51281ed3-0185-417a-a698-89d1cf962b0b"
   },
   "outputs": [],
   "source": [
    "# Load result into a DataFrame\n",
    "join_table = pd.DataFrame(result, \\\n",
    "                          columns=['Employee_Id','Employee_Name',\\\n",
    "                                   'Job_Role','Manager_Id',\\\n",
    "                                   'Department_Name'])\n",
    "print('\\n The top 5 records of Employee and Department tables are:')\n",
    "join_table.head()"
   ]
  },
  {
   "cell_type": "code",
   "execution_count": null,
   "metadata": {
    "id": "iU-x3YeLqRHZ"
   },
   "outputs": [],
   "source": [
    "# Export the result into a CSV file\n",
    "join_table.to_csv(\"emp_dep.csv\",index=False)\n",
    "\n",
    "# Close connection\n",
    "conn.close()"
   ]
  },
  {
   "cell_type": "markdown",
   "metadata": {
    "id": "NWyLgb67qZY_"
   },
   "source": [
    "**Working with SQLAlchemy**"
   ]
  },
  {
   "cell_type": "code",
   "execution_count": null,
   "metadata": {
    "id": "k4SXKM0Hqcob"
   },
   "outputs": [],
   "source": [
    "import sqlalchemy as db"
   ]
  },
  {
   "cell_type": "code",
   "execution_count": null,
   "metadata": {
    "id": "LByiG1Chqh4m"
   },
   "outputs": [],
   "source": [
    "#Create a connection\n",
    "engine = db.create_engine('sqlite:///Mydata.db')\n",
    "conn = engine.connect()\n",
    "\n",
    "# Create an instance of MetaData\n",
    "metadata = db.MetaData()"
   ]
  },
  {
   "cell_type": "code",
   "execution_count": null,
   "metadata": {
    "id": "JBu6r8_osO_0"
   },
   "outputs": [],
   "source": [
    "# Create a table called 'manager'\n",
    "manager = db.Table('manager', metadata,\n",
    "db.Column('Id', db.Integer(),primary_key=True),\n",
    "db.Column('Manager_Name', db.String(255), nullable=False),\n",
    "db.Column('Title', db.String(255), nullable=False),\n",
    "db.Column('Gender', db.String(1)))"
   ]
  },
  {
   "cell_type": "code",
   "execution_count": null,
   "metadata": {
    "id": "0EBU5BcysWBt"
   },
   "outputs": [],
   "source": [
    "# Actaully creates the table\n",
    "metadata.create_all(engine)"
   ]
  },
  {
   "cell_type": "code",
   "execution_count": null,
   "metadata": {
    "id": "CxEk9UlXsj55"
   },
   "outputs": [],
   "source": [
    "# Insert multiple rows of data into table\n",
    "query = db.insert(manager)\n",
    "values = [{'Id':1, 'Manager_Name':'Jane', 'Title':'General Manager', 'Gender':'F'},\n",
    "          {'Id':2, 'Manager_Name':'Jacob', 'Title':'Regional Manager', 'Gender':'M'},\n",
    "          {'Id':3, 'Manager_Name':'Jill', 'Title':'Senior Manager', 'Gender':'F'},\n",
    "          {'Id':4, 'Manager_Name':'Justin', 'Title':'Branch Manager', 'Gender':'M'},\n",
    "          {'Id':5, 'Manager_Name':'John', 'Title':'Regional Manager', 'Gender':'M'},\n",
    "          {'Id':6, 'Manager_Name':'James', 'Title':'Asst. Manager', 'Gender':'F'},\n",
    "          {'Id':7, 'Manager_Name':'June', 'Title':'Senior Manager', 'Gender':'F'}]\n",
    "results = conn.execute(query,values)\n"
   ]
  },
  {
   "cell_type": "code",
   "execution_count": null,
   "metadata": {
    "colab": {
     "base_uri": "https://localhost:8080/"
    },
    "id": "1Tptn3HMv82i",
    "outputId": "a25c901a-13d1-4c04-a121-00e34230c89d"
   },
   "outputs": [],
   "source": [
    "# Retrieve table data\n",
    "output = conn.execute(db.select(manager)).fetchall()\n",
    "output"
   ]
  },
  {
   "cell_type": "code",
   "execution_count": null,
   "metadata": {
    "id": "2-lU9OFPv_PH"
   },
   "outputs": [],
   "source": [
    "# Commit changes to the database\n",
    "conn.commit()\n",
    "\n",
    "# Close connection\n",
    "conn.close()"
   ]
  },
  {
   "cell_type": "code",
   "execution_count": null,
   "metadata": {
    "id": "MY5AD78jwcxT"
   },
   "outputs": [],
   "source": [
    "#Create an engine\n",
    "engine = db.create_engine('sqlite:///Rumba.db')\n",
    "\n",
    "#Create a connection\n",
    "conn = engine.connect()\n",
    "metadata = db.MetaData()"
   ]
  },
  {
   "cell_type": "code",
   "execution_count": null,
   "metadata": {
    "colab": {
     "base_uri": "https://localhost:8080/"
    },
    "id": "d8_GCYw3wiFA",
    "outputId": "5e8618d3-6830-4439-cf5e-fead37100be8"
   },
   "outputs": [],
   "source": [
    "# Read csv file into a dataframe\n",
    "df = pd.read_csv('emp_dep.csv')\n",
    "df.to_sql(con=engine, name=\"Emp_Dep\", if_exists='replace', index=False)\n",
    "print('Number of records successfully loaded: ', len(df))"
   ]
  },
  {
   "cell_type": "code",
   "execution_count": null,
   "metadata": {
    "id": "wsRnHEElwwzW"
   },
   "outputs": [],
   "source": [
    "# Call tables object\n",
    "emp_dep = db.Table('Emp_Dep', metadata, autoload_with=engine)\n",
    "manager = db.Table('manager', metadata, autoload_with=engine)"
   ]
  },
  {
   "cell_type": "code",
   "execution_count": null,
   "metadata": {
    "colab": {
     "base_uri": "https://localhost:8080/"
    },
    "id": "9EZZkm2-zAL_",
    "outputId": "ab4c6ff8-bcee-4d72-f263-cf600abaf5ff"
   },
   "outputs": [],
   "source": [
    "from sqlalchemy import text\n",
    "\n",
    "# Execute the PRAGMA query to get table info\n",
    "result = conn.execute(text(\"PRAGMA table_info(manager)\"))\n",
    "\n",
    "# Print the columns of the manager table\n",
    "for row in result:\n",
    "    print(row)\n"
   ]
  },
  {
   "cell_type": "code",
   "execution_count": null,
   "metadata": {
    "id": "FWMNqKafw4-k"
   },
   "outputs": [],
   "source": [
    "# Create a join query\n",
    "join_query = db.select(emp_dep.columns.Employee_Id,\\\n",
    "                       emp_dep.columns.Employee_Name,\\\n",
    "                       emp_dep.columns.Job_Role, \\\n",
    "                       emp_dep.columns.Department_Name, \\\n",
    "                       manager.columns.FirstName ).\\\n",
    "select_from(emp_dep.join(manager,\\\n",
    "                         emp_dep.columns.Manager_Id == manager.columns.Id)).\\\n",
    "order_by(emp_dep.columns.Employee_Id)\n",
    "\n",
    "# Retrieve data\n",
    "output = conn.execute(join_query)\n",
    "result = output.fetchall()"
   ]
  },
  {
   "cell_type": "code",
   "execution_count": null,
   "metadata": {
    "colab": {
     "base_uri": "https://localhost:8080/",
     "height": 457
    },
    "id": "zaEFreNyzSx0",
    "outputId": "ebdd2653-9bfd-4d34-eb70-e0354b2e6f94"
   },
   "outputs": [],
   "source": [
    "# Load result into a Dataframe\n",
    "data = pd.DataFrame(result)\n",
    "data\n"
   ]
  },
  {
   "cell_type": "code",
   "execution_count": null,
   "metadata": {
    "id": "P8hTbjzFzYvI"
   },
   "outputs": [],
   "source": [
    "\n",
    "# Close connection\n",
    "conn.close()"
   ]
  }
 ],
 "metadata": {
  "colab": {
   "provenance": []
  },
  "kernelspec": {
   "display_name": "Python 3 (ipykernel)",
   "language": "python",
   "name": "python3"
  },
  "language_info": {
   "codemirror_mode": {
    "name": "ipython",
    "version": 3
   },
   "file_extension": ".py",
   "mimetype": "text/x-python",
   "name": "python",
   "nbconvert_exporter": "python",
   "pygments_lexer": "ipython3",
   "version": "3.12.4"
  }
 },
 "nbformat": 4,
 "nbformat_minor": 4
}
